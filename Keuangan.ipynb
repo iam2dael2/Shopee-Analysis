{
 "cells": [
  {
   "cell_type": "markdown",
   "id": "73fd6a61",
   "metadata": {},
   "source": [
    "### Import Relevant Libraries"
   ]
  },
  {
   "cell_type": "code",
   "execution_count": 1,
   "id": "8391bd95",
   "metadata": {},
   "outputs": [],
   "source": [
    "import numpy as np\n",
    "import pandas as pd\n",
    "import matplotlib.pyplot as plt\n",
    "import seaborn as sns\n",
    "import os\n",
    "sns.set_style(\"whitegrid\")"
   ]
  },
  {
   "cell_type": "code",
   "execution_count": 2,
   "id": "6a7007d3",
   "metadata": {},
   "outputs": [
    {
     "data": {
      "text/plain": [
       "['CashFromFinancing(TTM).csv', 'ebitda.csv', 'income.csv', 'Revenue(TTM).csv']"
      ]
     },
     "execution_count": 2,
     "metadata": {},
     "output_type": "execute_result"
    }
   ],
   "source": [
    "os.listdir(\"./Data/Keuangan\")"
   ]
  },
  {
   "cell_type": "code",
   "execution_count": 3,
   "id": "65ab1e29",
   "metadata": {},
   "outputs": [],
   "source": [
    "# Revenue data\n",
    "revenue = pd.read_csv(\"./Data/Keuangan/Revenue(TTM).csv\")\n",
    "\n",
    "# Cash from financing data\n",
    "cff = pd.read_csv(\"./Data/Keuangan/CashFromFinancing(TTM).csv\")"
   ]
  },
  {
   "cell_type": "markdown",
   "id": "aa40cf39",
   "metadata": {},
   "source": [
    "### Data Preparation"
   ]
  },
  {
   "cell_type": "code",
   "execution_count": 4,
   "id": "7532054e",
   "metadata": {},
   "outputs": [
    {
     "name": "stdout",
     "output_type": "stream",
     "text": [
      "<class 'pandas.core.frame.DataFrame'>\n",
      "RangeIndex: 21 entries, 0 to 20\n",
      "Data columns (total 2 columns):\n",
      " #   Column  Non-Null Count  Dtype \n",
      "---  ------  --------------  ----- \n",
      " 0   Date    21 non-null     object\n",
      " 1   Value   21 non-null     object\n",
      "dtypes: object(2)\n",
      "memory usage: 464.0+ bytes\n"
     ]
    }
   ],
   "source": [
    "revenue.info() #cff.info()"
   ]
  },
  {
   "cell_type": "code",
   "execution_count": 5,
   "id": "0f007ec2",
   "metadata": {},
   "outputs": [],
   "source": [
    "# Konversi kolom Date menjadi bertipe data datetime\n",
    "revenue[\"Date\"] = pd.to_datetime(revenue[\"Date\"])\n",
    "cff[\"Date\"] = pd.to_datetime(cff[\"Date\"])\n",
    "\n",
    "# Kolom Date menjadi index dataframe\n",
    "revenue = revenue.set_index(\"Date\")\n",
    "revenue = revenue.rename(columns={\"Value\": \"Revenue\"})\n",
    "\n",
    "cff = cff.set_index(\"Date\")\n",
    "cff = cff.rename(columns={\"Value\": \"Cash From Financing\"})"
   ]
  },
  {
   "cell_type": "code",
   "execution_count": 6,
   "id": "7886f916",
   "metadata": {},
   "outputs": [
    {
     "data": {
      "text/html": [
       "<div>\n",
       "<style scoped>\n",
       "    .dataframe tbody tr th:only-of-type {\n",
       "        vertical-align: middle;\n",
       "    }\n",
       "\n",
       "    .dataframe tbody tr th {\n",
       "        vertical-align: top;\n",
       "    }\n",
       "\n",
       "    .dataframe thead th {\n",
       "        text-align: right;\n",
       "    }\n",
       "</style>\n",
       "<table border=\"1\" class=\"dataframe\">\n",
       "  <thead>\n",
       "    <tr style=\"text-align: right;\">\n",
       "      <th></th>\n",
       "      <th>Revenue</th>\n",
       "    </tr>\n",
       "    <tr>\n",
       "      <th>Date</th>\n",
       "      <th></th>\n",
       "    </tr>\n",
       "  </thead>\n",
       "  <tbody>\n",
       "    <tr>\n",
       "      <th>2017-06-30</th>\n",
       "      <td>374.48M</td>\n",
       "    </tr>\n",
       "    <tr>\n",
       "      <th>2017-09-30</th>\n",
       "      <td>378.05M</td>\n",
       "    </tr>\n",
       "    <tr>\n",
       "      <th>2017-12-31</th>\n",
       "      <td>414.19M</td>\n",
       "    </tr>\n",
       "    <tr>\n",
       "      <th>2018-03-31</th>\n",
       "      <td>475.29M</td>\n",
       "    </tr>\n",
       "    <tr>\n",
       "      <th>2018-06-30</th>\n",
       "      <td>557.52M</td>\n",
       "    </tr>\n",
       "  </tbody>\n",
       "</table>\n",
       "</div>"
      ],
      "text/plain": [
       "            Revenue\n",
       "Date               \n",
       "2017-06-30  374.48M\n",
       "2017-09-30  378.05M\n",
       "2017-12-31  414.19M\n",
       "2018-03-31  475.29M\n",
       "2018-06-30  557.52M"
      ]
     },
     "execution_count": 6,
     "metadata": {},
     "output_type": "execute_result"
    }
   ],
   "source": [
    "revenue.head()"
   ]
  },
  {
   "cell_type": "code",
   "execution_count": 7,
   "id": "0bd678b9",
   "metadata": {},
   "outputs": [
    {
     "data": {
      "text/html": [
       "<div>\n",
       "<style scoped>\n",
       "    .dataframe tbody tr th:only-of-type {\n",
       "        vertical-align: middle;\n",
       "    }\n",
       "\n",
       "    .dataframe tbody tr th {\n",
       "        vertical-align: top;\n",
       "    }\n",
       "\n",
       "    .dataframe thead th {\n",
       "        text-align: right;\n",
       "    }\n",
       "</style>\n",
       "<table border=\"1\" class=\"dataframe\">\n",
       "  <thead>\n",
       "    <tr style=\"text-align: right;\">\n",
       "      <th></th>\n",
       "      <th>Revenue</th>\n",
       "      <th>Cash From Financing</th>\n",
       "    </tr>\n",
       "    <tr>\n",
       "      <th>Date</th>\n",
       "      <th></th>\n",
       "      <th></th>\n",
       "    </tr>\n",
       "  </thead>\n",
       "  <tbody>\n",
       "    <tr>\n",
       "      <th>2017-06-30</th>\n",
       "      <td>374.48M</td>\n",
       "      <td>NaN</td>\n",
       "    </tr>\n",
       "    <tr>\n",
       "      <th>2017-09-30</th>\n",
       "      <td>378.05M</td>\n",
       "      <td>NaN</td>\n",
       "    </tr>\n",
       "    <tr>\n",
       "      <th>2017-12-31</th>\n",
       "      <td>414.19M</td>\n",
       "      <td>1.624B</td>\n",
       "    </tr>\n",
       "    <tr>\n",
       "      <th>2018-03-31</th>\n",
       "      <td>475.29M</td>\n",
       "      <td>1.266B</td>\n",
       "    </tr>\n",
       "    <tr>\n",
       "      <th>2018-06-30</th>\n",
       "      <td>557.52M</td>\n",
       "      <td>1.542B</td>\n",
       "    </tr>\n",
       "  </tbody>\n",
       "</table>\n",
       "</div>"
      ],
      "text/plain": [
       "            Revenue Cash From Financing\n",
       "Date                                   \n",
       "2017-06-30  374.48M                 NaN\n",
       "2017-09-30  378.05M                 NaN\n",
       "2017-12-31  414.19M              1.624B\n",
       "2018-03-31  475.29M              1.266B\n",
       "2018-06-30  557.52M              1.542B"
      ]
     },
     "execution_count": 7,
     "metadata": {},
     "output_type": "execute_result"
    }
   ],
   "source": [
    "# Menggabungkan dataframe revenue dan cff\n",
    "combined = pd.concat([revenue, cff], axis=1, join=\"inner\")\n",
    "combined.head()"
   ]
  },
  {
   "cell_type": "code",
   "execution_count": 8,
   "id": "f8919770",
   "metadata": {},
   "outputs": [
    {
     "name": "stdout",
     "output_type": "stream",
     "text": [
      "<class 'pandas.core.frame.DataFrame'>\n",
      "DatetimeIndex: 21 entries, 2017-06-30 to 2022-06-30\n",
      "Data columns (total 2 columns):\n",
      " #   Column               Non-Null Count  Dtype \n",
      "---  ------               --------------  ----- \n",
      " 0   Revenue              21 non-null     object\n",
      " 1   Cash From Financing  19 non-null     object\n",
      "dtypes: object(2)\n",
      "memory usage: 1.0+ KB\n"
     ]
    }
   ],
   "source": [
    "combined.info()"
   ]
  },
  {
   "cell_type": "code",
   "execution_count": 9,
   "id": "f6679186",
   "metadata": {},
   "outputs": [],
   "source": [
    "combined = combined.dropna()"
   ]
  },
  {
   "cell_type": "markdown",
   "id": "17dca1f9",
   "metadata": {},
   "source": [
    "Kolom **Revenue** dan **Cash From Financing** tidak bertipe data numerik."
   ]
  },
  {
   "cell_type": "code",
   "execution_count": 10,
   "id": "aa7e5a30",
   "metadata": {},
   "outputs": [],
   "source": [
    "def text_to_num(text):\n",
    "    \n",
    "    # Konversi M ke jutaan dan B ke miliaran\n",
    "    num_dict = {\"M\": 6, \"B\": 9}\n",
    "    zero = \"0\"\n",
    "    # Menghilangkan titik\n",
    "    converted_text = text.replace(\".\", \"\")\n",
    "    print(converted_text)\n",
    "    \n",
    "    for symbol in num_dict.keys():\n",
    "        if symbol in text:\n",
    "            converted_text = text.replace(symbol, \"\")\n",
    "            converted_text = converted_text.split(\".\")\n",
    "            last_num = converted_text[-1]\n",
    "            converted_text = \"\".join(converted_text)\n",
    "            print(converted_text)\n",
    "            zeroes = zero * (num_dict[symbol] - len(last_num))\n",
    "            converted_text += zeroes\n",
    "            print(converted_text)\n",
    "            \n",
    "    return int(converted_text)"
   ]
  },
  {
   "cell_type": "code",
   "execution_count": 11,
   "id": "ed186af9",
   "metadata": {},
   "outputs": [
    {
     "name": "stdout",
     "output_type": "stream",
     "text": [
      "41419M\n",
      "41419\n",
      "414190000\n",
      "47529M\n",
      "47529\n",
      "475290000\n",
      "55752M\n",
      "55752\n",
      "557520000\n",
      "66835M\n",
      "66835\n",
      "668350000\n",
      "82697M\n",
      "82697\n",
      "826970000\n",
      "1024B\n",
      "1024\n",
      "1024000000\n",
      "1276B\n",
      "1276\n",
      "1276000000\n",
      "1681B\n",
      "1681\n",
      "1681000000\n",
      "2175B\n",
      "2175\n",
      "2175000000\n",
      "2538B\n",
      "2538\n",
      "2538000000\n",
      "2984B\n",
      "2984\n",
      "2984000000\n",
      "3586B\n",
      "3586\n",
      "3586000000\n",
      "4376B\n",
      "4376\n",
      "4376000000\n",
      "5424B\n",
      "5424\n",
      "5424000000\n",
      "6823B\n",
      "6823\n",
      "6823000000\n",
      "8300B\n",
      "8300\n",
      "8300000000\n",
      "9955B\n",
      "9955\n",
      "9955000000\n",
      "1109B\n",
      "1109\n",
      "11090000000\n",
      "1175B\n",
      "1175\n",
      "11750000000\n",
      "1624B\n",
      "1624\n",
      "1624000000\n",
      "1266B\n",
      "1266\n",
      "1266000000\n",
      "1542B\n",
      "1542\n",
      "1542000000\n",
      "1473B\n",
      "1473\n",
      "1473000000\n",
      "54663M\n",
      "54663\n",
      "546630000\n",
      "2075B\n",
      "2075\n",
      "2075000000\n",
      "1534B\n",
      "1534\n",
      "1534000000\n",
      "1536B\n",
      "1536\n",
      "1536000000\n",
      "2580B\n",
      "2580\n",
      "2580000000\n",
      "1027B\n",
      "1027\n",
      "1027000000\n",
      "1903B\n",
      "1903\n",
      "1903000000\n",
      "1898B\n",
      "1898\n",
      "1898000000\n",
      "3802B\n",
      "3802\n",
      "3802000000\n",
      "3869B\n",
      "3869\n",
      "3869000000\n",
      "3127B\n",
      "3127\n",
      "3127000000\n",
      "9965B\n",
      "9965\n",
      "9965000000\n",
      "7402B\n",
      "7402\n",
      "7402000000\n",
      "7502B\n",
      "7502\n",
      "7502000000\n",
      "7661B\n",
      "7661\n",
      "7661000000\n"
     ]
    }
   ],
   "source": [
    "new_combined = combined.copy()\n",
    "\n",
    "for column in combined.columns:\n",
    "    new_combined[column] = new_combined[column].apply(text_to_num)"
   ]
  },
  {
   "cell_type": "markdown",
   "id": "641acee9",
   "metadata": {},
   "source": [
    "### Plotting into the Graph"
   ]
  },
  {
   "cell_type": "code",
   "execution_count": 12,
   "id": "7c22e745",
   "metadata": {},
   "outputs": [
    {
     "data": {
      "text/html": [
       "<div>\n",
       "<style scoped>\n",
       "    .dataframe tbody tr th:only-of-type {\n",
       "        vertical-align: middle;\n",
       "    }\n",
       "\n",
       "    .dataframe tbody tr th {\n",
       "        vertical-align: top;\n",
       "    }\n",
       "\n",
       "    .dataframe thead th {\n",
       "        text-align: right;\n",
       "    }\n",
       "</style>\n",
       "<table border=\"1\" class=\"dataframe\">\n",
       "  <thead>\n",
       "    <tr style=\"text-align: right;\">\n",
       "      <th></th>\n",
       "      <th>Revenue</th>\n",
       "      <th>Cash From Financing</th>\n",
       "    </tr>\n",
       "    <tr>\n",
       "      <th>Date</th>\n",
       "      <th></th>\n",
       "      <th></th>\n",
       "    </tr>\n",
       "  </thead>\n",
       "  <tbody>\n",
       "    <tr>\n",
       "      <th>2017-12-31</th>\n",
       "      <td>414.19M</td>\n",
       "      <td>1.624B</td>\n",
       "    </tr>\n",
       "    <tr>\n",
       "      <th>2018-03-31</th>\n",
       "      <td>475.29M</td>\n",
       "      <td>1.266B</td>\n",
       "    </tr>\n",
       "    <tr>\n",
       "      <th>2018-06-30</th>\n",
       "      <td>557.52M</td>\n",
       "      <td>1.542B</td>\n",
       "    </tr>\n",
       "    <tr>\n",
       "      <th>2018-09-30</th>\n",
       "      <td>668.35M</td>\n",
       "      <td>1.473B</td>\n",
       "    </tr>\n",
       "    <tr>\n",
       "      <th>2018-12-31</th>\n",
       "      <td>826.97M</td>\n",
       "      <td>546.63M</td>\n",
       "    </tr>\n",
       "  </tbody>\n",
       "</table>\n",
       "</div>"
      ],
      "text/plain": [
       "            Revenue Cash From Financing\n",
       "Date                                   \n",
       "2017-12-31  414.19M              1.624B\n",
       "2018-03-31  475.29M              1.266B\n",
       "2018-06-30  557.52M              1.542B\n",
       "2018-09-30  668.35M              1.473B\n",
       "2018-12-31  826.97M             546.63M"
      ]
     },
     "execution_count": 12,
     "metadata": {},
     "output_type": "execute_result"
    }
   ],
   "source": [
    "combined.head()"
   ]
  },
  {
   "cell_type": "code",
   "execution_count": 13,
   "id": "382adccf",
   "metadata": {},
   "outputs": [
    {
     "data": {
      "text/plain": [
       "<AxesSubplot:xlabel='Date'>"
      ]
     },
     "execution_count": 13,
     "metadata": {},
     "output_type": "execute_result"
    },
    {
     "data": {
      "image/png": "[encoded data removed]",
      "text/plain": [
       "<Figure size 720x432 with 1 Axes>"
      ]
     },
     "metadata": {},
     "output_type": "display_data"
    }
   ],
   "source": [
    "new_combined.plot(figsize=(10,6))"
   ]
  },
  {
   "cell_type": "markdown",
   "id": "5a714237",
   "metadata": {},
   "source": [
    "**Insight**:<br>\n",
    "Sea Limited sedang memprioritaskan keuntungan daripada pertumbuhan karena perubahan pasar keuangan global yang cepat. \n",
    "\n",
    "Sea Limited berkembang lebih cepat, tetapi sangat tergantung pada aktivitas kas pendanaan, seperti yang dapat dilihat pada grafik di atas. Akan tetapi, hal itu tidak dapat bertahan lama karena lingkungan ekonomi makro yang berbeda."
   ]
  },
  {
   "cell_type": "code",
   "execution_count": 14,
   "id": "069a9b1c",
   "metadata": {},
   "outputs": [],
   "source": [
    "new_combined.to_csv(os.path.join(\"Output\", \"revenue_cff.csv\"))"
   ]
  },
  {
   "cell_type": "markdown",
   "id": "72484b37",
   "metadata": {},
   "source": [
    "### Insight Lainnya"
   ]
  },
  {
   "cell_type": "markdown",
   "id": "6994788e",
   "metadata": {},
   "source": [
    "#### EBITDA"
   ]
  },
  {
   "cell_type": "code",
   "execution_count": 15,
   "id": "5cad67c3",
   "metadata": {},
   "outputs": [
    {
     "data": {
      "text/plain": [
       "['CashFromFinancing(TTM).csv', 'ebitda.csv', 'income.csv', 'Revenue(TTM).csv']"
      ]
     },
     "execution_count": 15,
     "metadata": {},
     "output_type": "execute_result"
    }
   ],
   "source": [
    "os.listdir(\"./Data/Keuangan\")"
   ]
  },
  {
   "cell_type": "code",
   "execution_count": 16,
   "id": "1bfc9fbb",
   "metadata": {},
   "outputs": [],
   "source": [
    "ebitda = pd.read_csv(os.path.join(\"./Data/Keuangan\", 'ebitda.csv'))"
   ]
  },
  {
   "cell_type": "code",
   "execution_count": 17,
   "id": "244439b2",
   "metadata": {},
   "outputs": [
    {
     "data": {
      "text/html": [
       "<div>\n",
       "<style scoped>\n",
       "    .dataframe tbody tr th:only-of-type {\n",
       "        vertical-align: middle;\n",
       "    }\n",
       "\n",
       "    .dataframe tbody tr th {\n",
       "        vertical-align: top;\n",
       "    }\n",
       "\n",
       "    .dataframe thead th {\n",
       "        text-align: right;\n",
       "    }\n",
       "</style>\n",
       "<table border=\"1\" class=\"dataframe\">\n",
       "  <thead>\n",
       "    <tr style=\"text-align: right;\">\n",
       "      <th></th>\n",
       "      <th>Value</th>\n",
       "    </tr>\n",
       "    <tr>\n",
       "      <th>Date</th>\n",
       "      <th></th>\n",
       "    </tr>\n",
       "  </thead>\n",
       "  <tbody>\n",
       "    <tr>\n",
       "      <th>3/31/2021</th>\n",
       "      <td>-348.413</td>\n",
       "    </tr>\n",
       "    <tr>\n",
       "      <th>6/30/2021</th>\n",
       "      <td>-334.016</td>\n",
       "    </tr>\n",
       "    <tr>\n",
       "      <th>9/30/2021</th>\n",
       "      <td>-458.556</td>\n",
       "    </tr>\n",
       "    <tr>\n",
       "      <th>12/31/2021</th>\n",
       "      <td>-442.074</td>\n",
       "    </tr>\n",
       "    <tr>\n",
       "      <th>3/31/2022</th>\n",
       "      <td>-498.032</td>\n",
       "    </tr>\n",
       "  </tbody>\n",
       "</table>\n",
       "</div>"
      ],
      "text/plain": [
       "              Value\n",
       "Date               \n",
       "3/31/2021  -348.413\n",
       "6/30/2021  -334.016\n",
       "9/30/2021  -458.556\n",
       "12/31/2021 -442.074\n",
       "3/31/2022  -498.032"
      ]
     },
     "execution_count": 17,
     "metadata": {},
     "output_type": "execute_result"
    }
   ],
   "source": [
    "ebitda = ebitda.set_index(\"Date\")\n",
    "ebitda.head()"
   ]
  },
  {
   "cell_type": "code",
   "execution_count": 18,
   "id": "d4bf05d6",
   "metadata": {
    "scrolled": true
   },
   "outputs": [
    {
     "data": {
      "text/plain": [
       "Text(0, 0.5, 'EBITDA ($)')"
      ]
     },
     "execution_count": 18,
     "metadata": {},
     "output_type": "execute_result"
    },
    {
     "data": {
      "image/png": "[encoded data removed]",
      "text/plain": [
       "<Figure size 720x432 with 1 Axes>"
      ]
     },
     "metadata": {},
     "output_type": "display_data"
    }
   ],
   "source": [
    "plt.figure(figsize=(10,6))\n",
    "sns.barplot(x=ebitda.index, y=ebitda[\"Value\"], color=\"red\")\n",
    "plt.title(\"EBITDA\", fontsize=20)\n",
    "plt.ylabel(\"EBITDA ($)\")"
   ]
  },
  {
   "cell_type": "code",
   "execution_count": 19,
   "id": "4128e4e5",
   "metadata": {},
   "outputs": [],
   "source": [
    "ebitda.to_csv(os.path.join(\"Output\", \"ebitda.csv\"))"
   ]
  },
  {
   "cell_type": "markdown",
   "id": "7ee42cd2",
   "metadata": {},
   "source": [
    "**Insight**:<br><br>\n",
    "**CEO Forrest Li said that narrower loss indicated Shopee was \"well on track to achieve positive adjusted EBITDA before allocation of HQ costs in the region.** <br>\n",
    "\n",
    "Pernyataan tersebut terbalik dengan prediksi yang ada"
   ]
  },
  {
   "cell_type": "markdown",
   "id": "271a15df",
   "metadata": {},
   "source": [
    "#### Income Statement"
   ]
  },
  {
   "cell_type": "code",
   "execution_count": 20,
   "id": "01e0d73a",
   "metadata": {},
   "outputs": [
    {
     "data": {
      "text/html": [
       "<div>\n",
       "<style scoped>\n",
       "    .dataframe tbody tr th:only-of-type {\n",
       "        vertical-align: middle;\n",
       "    }\n",
       "\n",
       "    .dataframe tbody tr th {\n",
       "        vertical-align: top;\n",
       "    }\n",
       "\n",
       "    .dataframe thead th {\n",
       "        text-align: right;\n",
       "    }\n",
       "</style>\n",
       "<table border=\"1\" class=\"dataframe\">\n",
       "  <thead>\n",
       "    <tr style=\"text-align: right;\">\n",
       "      <th></th>\n",
       "      <th>Date</th>\n",
       "      <th>Total Revenue</th>\n",
       "      <th>Operating Expense</th>\n",
       "      <th>Selling &amp; Marketing Expense</th>\n",
       "    </tr>\n",
       "  </thead>\n",
       "  <tbody>\n",
       "    <tr>\n",
       "      <th>0</th>\n",
       "      <td>9/29/2021</td>\n",
       "      <td>2688884</td>\n",
       "      <td>1467260</td>\n",
       "      <td>1009601</td>\n",
       "    </tr>\n",
       "    <tr>\n",
       "      <th>1</th>\n",
       "      <td>12/30/2021</td>\n",
       "      <td>3222114</td>\n",
       "      <td>1752803</td>\n",
       "      <td>1219858</td>\n",
       "    </tr>\n",
       "    <tr>\n",
       "      <th>2</th>\n",
       "      <td>3/30/2022</td>\n",
       "      <td>2899571</td>\n",
       "      <td>1668060</td>\n",
       "      <td>1005174</td>\n",
       "    </tr>\n",
       "    <tr>\n",
       "      <th>3</th>\n",
       "      <td>6/29/2022</td>\n",
       "      <td>2942599</td>\n",
       "      <td>1749634</td>\n",
       "      <td>973767</td>\n",
       "    </tr>\n",
       "  </tbody>\n",
       "</table>\n",
       "</div>"
      ],
      "text/plain": [
       "         Date  Total Revenue  Operating Expense  Selling & Marketing Expense\n",
       "0   9/29/2021        2688884            1467260                      1009601\n",
       "1  12/30/2021        3222114            1752803                      1219858\n",
       "2   3/30/2022        2899571            1668060                      1005174\n",
       "3   6/29/2022        2942599            1749634                       973767"
      ]
     },
     "execution_count": 20,
     "metadata": {},
     "output_type": "execute_result"
    }
   ],
   "source": [
    "# Nilai dalam ribuan\n",
    "\n",
    "income = pd.read_csv(os.path.join(\"./Data/Keuangan\", 'income.csv'))\n",
    "income.head()"
   ]
  },
  {
   "cell_type": "code",
   "execution_count": 21,
   "id": "a1f7393e",
   "metadata": {},
   "outputs": [],
   "source": [
    "income[[\"Total Revenue\", \"Operating Expense\", \"Selling & Marketing Expense\"]] = income[[\"Total Revenue\", \"Operating Expense\", \"Selling & Marketing Expense\"]].astype(int)\n",
    "new_income = income.copy()"
   ]
  },
  {
   "cell_type": "code",
   "execution_count": 22,
   "id": "7f3814b0",
   "metadata": {},
   "outputs": [
    {
     "name": "stdout",
     "output_type": "stream",
     "text": [
      "<class 'pandas.core.frame.DataFrame'>\n",
      "RangeIndex: 4 entries, 0 to 3\n",
      "Data columns (total 4 columns):\n",
      " #   Column                       Non-Null Count  Dtype \n",
      "---  ------                       --------------  ----- \n",
      " 0   Date                         4 non-null      object\n",
      " 1   Total Revenue                4 non-null      int32 \n",
      " 2   Operating Expense            4 non-null      int32 \n",
      " 3   Selling & Marketing Expense  4 non-null      int32 \n",
      "dtypes: int32(3), object(1)\n",
      "memory usage: 208.0+ bytes\n"
     ]
    }
   ],
   "source": [
    "income.info()"
   ]
  },
  {
   "cell_type": "code",
   "execution_count": 23,
   "id": "80c287b0",
   "metadata": {},
   "outputs": [],
   "source": [
    "income = income.iloc[:,:-1]\n",
    "\n",
    "income[\"Date\"] = pd.to_datetime(income[\"Date\"])\n",
    "income = income.set_index(\"Date\")\n",
    "new_income = new_income.set_index(\"Date\")"
   ]
  },
  {
   "cell_type": "code",
   "execution_count": 24,
   "id": "6b32795e",
   "metadata": {},
   "outputs": [
    {
     "data": {
      "text/html": [
       "<div>\n",
       "<style scoped>\n",
       "    .dataframe tbody tr th:only-of-type {\n",
       "        vertical-align: middle;\n",
       "    }\n",
       "\n",
       "    .dataframe tbody tr th {\n",
       "        vertical-align: top;\n",
       "    }\n",
       "\n",
       "    .dataframe thead th {\n",
       "        text-align: right;\n",
       "    }\n",
       "</style>\n",
       "<table border=\"1\" class=\"dataframe\">\n",
       "  <thead>\n",
       "    <tr style=\"text-align: right;\">\n",
       "      <th></th>\n",
       "      <th>Total Revenue</th>\n",
       "      <th>Operating Expense</th>\n",
       "    </tr>\n",
       "    <tr>\n",
       "      <th>Date</th>\n",
       "      <th></th>\n",
       "      <th></th>\n",
       "    </tr>\n",
       "  </thead>\n",
       "  <tbody>\n",
       "    <tr>\n",
       "      <th>2021-09-29</th>\n",
       "      <td>2688884</td>\n",
       "      <td>1467260</td>\n",
       "    </tr>\n",
       "    <tr>\n",
       "      <th>2021-12-30</th>\n",
       "      <td>3222114</td>\n",
       "      <td>1752803</td>\n",
       "    </tr>\n",
       "    <tr>\n",
       "      <th>2022-03-30</th>\n",
       "      <td>2899571</td>\n",
       "      <td>1668060</td>\n",
       "    </tr>\n",
       "    <tr>\n",
       "      <th>2022-06-29</th>\n",
       "      <td>2942599</td>\n",
       "      <td>1749634</td>\n",
       "    </tr>\n",
       "  </tbody>\n",
       "</table>\n",
       "</div>"
      ],
      "text/plain": [
       "            Total Revenue  Operating Expense\n",
       "Date                                        \n",
       "2021-09-29        2688884            1467260\n",
       "2021-12-30        3222114            1752803\n",
       "2022-03-30        2899571            1668060\n",
       "2022-06-29        2942599            1749634"
      ]
     },
     "execution_count": 24,
     "metadata": {},
     "output_type": "execute_result"
    }
   ],
   "source": [
    "income.head()"
   ]
  },
  {
   "cell_type": "code",
   "execution_count": 25,
   "id": "a0db5bf5",
   "metadata": {},
   "outputs": [
    {
     "data": {
      "text/html": [
       "<div>\n",
       "<style scoped>\n",
       "    .dataframe tbody tr th:only-of-type {\n",
       "        vertical-align: middle;\n",
       "    }\n",
       "\n",
       "    .dataframe tbody tr th {\n",
       "        vertical-align: top;\n",
       "    }\n",
       "\n",
       "    .dataframe thead th {\n",
       "        text-align: right;\n",
       "    }\n",
       "</style>\n",
       "<table border=\"1\" class=\"dataframe\">\n",
       "  <thead>\n",
       "    <tr style=\"text-align: right;\">\n",
       "      <th></th>\n",
       "      <th>Total Revenue</th>\n",
       "      <th>Operating Expense</th>\n",
       "      <th>Selling &amp; Marketing Expense</th>\n",
       "    </tr>\n",
       "    <tr>\n",
       "      <th>Date</th>\n",
       "      <th></th>\n",
       "      <th></th>\n",
       "      <th></th>\n",
       "    </tr>\n",
       "  </thead>\n",
       "  <tbody>\n",
       "    <tr>\n",
       "      <th>9/29/2021</th>\n",
       "      <td>2688884</td>\n",
       "      <td>1467260</td>\n",
       "      <td>1009601</td>\n",
       "    </tr>\n",
       "    <tr>\n",
       "      <th>12/30/2021</th>\n",
       "      <td>3222114</td>\n",
       "      <td>1752803</td>\n",
       "      <td>1219858</td>\n",
       "    </tr>\n",
       "    <tr>\n",
       "      <th>3/30/2022</th>\n",
       "      <td>2899571</td>\n",
       "      <td>1668060</td>\n",
       "      <td>1005174</td>\n",
       "    </tr>\n",
       "    <tr>\n",
       "      <th>6/29/2022</th>\n",
       "      <td>2942599</td>\n",
       "      <td>1749634</td>\n",
       "      <td>973767</td>\n",
       "    </tr>\n",
       "  </tbody>\n",
       "</table>\n",
       "</div>"
      ],
      "text/plain": [
       "            Total Revenue  Operating Expense  Selling & Marketing Expense\n",
       "Date                                                                     \n",
       "9/29/2021         2688884            1467260                      1009601\n",
       "12/30/2021        3222114            1752803                      1219858\n",
       "3/30/2022         2899571            1668060                      1005174\n",
       "6/29/2022         2942599            1749634                       973767"
      ]
     },
     "execution_count": 25,
     "metadata": {},
     "output_type": "execute_result"
    }
   ],
   "source": [
    "new_income.head()"
   ]
  },
  {
   "cell_type": "code",
   "execution_count": 26,
   "id": "953b273f",
   "metadata": {},
   "outputs": [
    {
     "data": {
      "image/png": "[encoded data removed]",
      "text/plain": [
       "<Figure size 720x432 with 1 Axes>"
      ]
     },
     "metadata": {},
     "output_type": "display_data"
    }
   ],
   "source": [
    "plt.figure(figsize=(10,6))\n",
    "new_income[\"Total Revenue\"].plot(kind=\"bar\", color=\"red\", label=\"Total Revenue\")\n",
    "new_income[\"Operating Expense\"].plot(kind=\"line\", marker='*', color='black', ms=10, label=\"Operating Expense\")\n",
    "plt.title(\"Revenue & Operating Expense\")\n",
    "plt.ylabel(\"Nominal (x1000)\")\n",
    "plt.legend()\n",
    "plt.show()"
   ]
  },
  {
   "cell_type": "code",
   "execution_count": 27,
   "id": "6b50f128",
   "metadata": {},
   "outputs": [],
   "source": [
    "income.to_csv(os.path.join(\"Output\", \"income.csv\"))"
   ]
  },
  {
   "cell_type": "markdown",
   "id": "ce7be87b",
   "metadata": {},
   "source": [
    "**Insight**:\n",
    "\n",
    "Revenue mulai menurun pada akhir tahun 2021, sedangkan biaya operasi stabil saja. Hal ini mengindikasikan biaya operasi yang dikeluarkan oleh SEA Limited, termasuk biaya marketing sangat besar, yakni melebihi 50% dari revenue."
   ]
  },
  {
   "cell_type": "code",
   "execution_count": 28,
   "id": "c3b6a69e",
   "metadata": {},
   "outputs": [
    {
     "data": {
      "text/html": [
       "<div>\n",
       "<style scoped>\n",
       "    .dataframe tbody tr th:only-of-type {\n",
       "        vertical-align: middle;\n",
       "    }\n",
       "\n",
       "    .dataframe tbody tr th {\n",
       "        vertical-align: top;\n",
       "    }\n",
       "\n",
       "    .dataframe thead th {\n",
       "        text-align: right;\n",
       "    }\n",
       "</style>\n",
       "<table border=\"1\" class=\"dataframe\">\n",
       "  <thead>\n",
       "    <tr style=\"text-align: right;\">\n",
       "      <th></th>\n",
       "      <th>Date</th>\n",
       "      <th>Operating Expense</th>\n",
       "      <th>Selling &amp; Marketing Expense</th>\n",
       "    </tr>\n",
       "  </thead>\n",
       "  <tbody>\n",
       "    <tr>\n",
       "      <th>0</th>\n",
       "      <td>9/29/2021</td>\n",
       "      <td>1467260</td>\n",
       "      <td>1009601</td>\n",
       "    </tr>\n",
       "    <tr>\n",
       "      <th>1</th>\n",
       "      <td>12/30/2021</td>\n",
       "      <td>1752803</td>\n",
       "      <td>1219858</td>\n",
       "    </tr>\n",
       "    <tr>\n",
       "      <th>2</th>\n",
       "      <td>3/30/2022</td>\n",
       "      <td>1668060</td>\n",
       "      <td>1005174</td>\n",
       "    </tr>\n",
       "    <tr>\n",
       "      <th>3</th>\n",
       "      <td>6/29/2022</td>\n",
       "      <td>1749634</td>\n",
       "      <td>973767</td>\n",
       "    </tr>\n",
       "  </tbody>\n",
       "</table>\n",
       "</div>"
      ],
      "text/plain": [
       "         Date  Operating Expense  Selling & Marketing Expense\n",
       "0   9/29/2021            1467260                      1009601\n",
       "1  12/30/2021            1752803                      1219858\n",
       "2   3/30/2022            1668060                      1005174\n",
       "3   6/29/2022            1749634                       973767"
      ]
     },
     "execution_count": 28,
     "metadata": {},
     "output_type": "execute_result"
    }
   ],
   "source": [
    "expenses = pd.read_csv(os.path.join(\"./Data/Keuangan\", 'income.csv'))\n",
    "expenses = expenses.drop(\"Total Revenue\", axis=1)\n",
    "expenses.head()"
   ]
  },
  {
   "cell_type": "code",
   "execution_count": 29,
   "id": "9e05a7f4",
   "metadata": {},
   "outputs": [
    {
     "name": "stdout",
     "output_type": "stream",
     "text": [
      "<class 'pandas.core.frame.DataFrame'>\n",
      "RangeIndex: 4 entries, 0 to 3\n",
      "Data columns (total 3 columns):\n",
      " #   Column                       Non-Null Count  Dtype \n",
      "---  ------                       --------------  ----- \n",
      " 0   Date                         4 non-null      object\n",
      " 1   Operating Expense            4 non-null      int64 \n",
      " 2   Selling & Marketing Expense  4 non-null      int64 \n",
      "dtypes: int64(2), object(1)\n",
      "memory usage: 224.0+ bytes\n"
     ]
    }
   ],
   "source": [
    "expenses.info()"
   ]
  },
  {
   "cell_type": "code",
   "execution_count": 30,
   "id": "85278e5d",
   "metadata": {},
   "outputs": [
    {
     "data": {
      "text/html": [
       "<div>\n",
       "<style scoped>\n",
       "    .dataframe tbody tr th:only-of-type {\n",
       "        vertical-align: middle;\n",
       "    }\n",
       "\n",
       "    .dataframe tbody tr th {\n",
       "        vertical-align: top;\n",
       "    }\n",
       "\n",
       "    .dataframe thead th {\n",
       "        text-align: right;\n",
       "    }\n",
       "</style>\n",
       "<table border=\"1\" class=\"dataframe\">\n",
       "  <thead>\n",
       "    <tr style=\"text-align: right;\">\n",
       "      <th></th>\n",
       "      <th>Operating Expense</th>\n",
       "      <th>Selling &amp; Marketing Expense</th>\n",
       "    </tr>\n",
       "    <tr>\n",
       "      <th>Date</th>\n",
       "      <th></th>\n",
       "      <th></th>\n",
       "    </tr>\n",
       "  </thead>\n",
       "  <tbody>\n",
       "    <tr>\n",
       "      <th>2021-09-29</th>\n",
       "      <td>1467260</td>\n",
       "      <td>1009601</td>\n",
       "    </tr>\n",
       "    <tr>\n",
       "      <th>2021-12-30</th>\n",
       "      <td>1752803</td>\n",
       "      <td>1219858</td>\n",
       "    </tr>\n",
       "    <tr>\n",
       "      <th>2022-03-30</th>\n",
       "      <td>1668060</td>\n",
       "      <td>1005174</td>\n",
       "    </tr>\n",
       "    <tr>\n",
       "      <th>2022-06-29</th>\n",
       "      <td>1749634</td>\n",
       "      <td>973767</td>\n",
       "    </tr>\n",
       "  </tbody>\n",
       "</table>\n",
       "</div>"
      ],
      "text/plain": [
       "            Operating Expense  Selling & Marketing Expense\n",
       "Date                                                      \n",
       "2021-09-29            1467260                      1009601\n",
       "2021-12-30            1752803                      1219858\n",
       "2022-03-30            1668060                      1005174\n",
       "2022-06-29            1749634                       973767"
      ]
     },
     "execution_count": 30,
     "metadata": {},
     "output_type": "execute_result"
    }
   ],
   "source": [
    "new_expenses = expenses.copy()\n",
    "expenses[\"Date\"] = pd.to_datetime(expenses[\"Date\"])\n",
    "expenses = expenses.set_index(\"Date\")\n",
    "expenses.head()"
   ]
  },
  {
   "cell_type": "code",
   "execution_count": 31,
   "id": "de5396c7",
   "metadata": {},
   "outputs": [
    {
     "data": {
      "image/png": "[encoded data removed]",
      "text/plain": [
       "<Figure size 720x432 with 1 Axes>"
      ]
     },
     "metadata": {},
     "output_type": "display_data"
    }
   ],
   "source": [
    "x = new_expenses[\"Date\"]\n",
    "y1 = new_expenses[\"Operating Expense\"]\n",
    "y2 = new_expenses[\"Selling & Marketing Expense\"]\n",
    "\n",
    "plt.figure(figsize=(10,6))\n",
    "plt.bar(x, y1, color='r')\n",
    "plt.bar(x, y2-y1, bottom=y1, color='b')\n",
    "plt.title(\"Proporsi Biaya Marketing dari Biaya Operasi\", fontsize=14)\n",
    "plt.ylabel(\"Nominal (x1000)\")\n",
    "plt.show()"
   ]
  },
  {
   "cell_type": "code",
   "execution_count": 33,
   "id": "fbbb8f8f",
   "metadata": {},
   "outputs": [],
   "source": [
    "expenses.to_csv(os.path.join(\"Output\", \"expenses.csv\"))"
   ]
  },
  {
   "cell_type": "markdown",
   "id": "09ac699b",
   "metadata": {},
   "source": [
    "**Insight**:<br>\n",
    "70% Biaya operasi digunakan untuk biaya marketing, sehingga memang benar bahwa pengeluaran dari SEA Limited sangat banyak meskipun sedang terdampak kemunduran."
   ]
  },
  {
   "cell_type": "code",
   "execution_count": null,
   "id": "4057281b",
   "metadata": {},
   "outputs": [],
   "source": []
  }
 ],
 "metadata": {
  "kernelspec": {
   "display_name": "Python 3 (ipykernel)",
   "language": "python",
   "name": "python3"
  },
  "language_info": {
   "codemirror_mode": {
    "name": "ipython",
    "version": 3
   },
   "file_extension": ".py",
   "mimetype": "text/x-python",
   "name": "python",
   "nbconvert_exporter": "python",
   "pygments_lexer": "ipython3",
   "version": "3.9.12"
  }
 },
 "nbformat": 4,
 "nbformat_minor": 5
}
