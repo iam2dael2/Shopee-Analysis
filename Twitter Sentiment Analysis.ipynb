{
 "cells": [
  {
   "cell_type": "markdown",
   "id": "c640632a",
   "metadata": {},
   "source": [
    "### Import Relevant Libraries"
   ]
  },
  {
   "cell_type": "code",
   "execution_count": 1,
   "id": "b4d7e98a",
   "metadata": {},
   "outputs": [],
   "source": [
    "import tweepy\n",
    "from textblob import TextBlob\n",
    "from wordcloud import WordCloud\n",
    "import pandas as pd\n",
    "import numpy as np\n",
    "import emoji\n",
    "import re\n",
    "import matplotlib.pyplot as plt\n",
    "import os"
   ]
  },
  {
   "cell_type": "code",
   "execution_count": 2,
   "id": "f574eb13",
   "metadata": {},
   "outputs": [],
   "source": [
    "# Consumer Keys\n",
    "api_key = \"X7zlBLEzaxfhuMOWaYNeH35nj\"\n",
    "api_key_secret = \"s8pIdh416pp1hfMrUMfHzzDnZvYLeupR4PDvDfwWRh0Bfx2nL9\"\n",
    "\n",
    "# Authentication Tokens\n",
    "access_token = \"1543790938195369985-jABnbwkejQBsYIgisCSv5uIJsdMj8V\"\n",
    "access_token_secret = \"uZVuVpqwG1HySwUXIcs1qkSazVW8WPRNj1HFWsmK1NgQh\""
   ]
  },
  {
   "cell_type": "markdown",
   "id": "cd907382",
   "metadata": {},
   "source": [
    "### Create the  Authentication Object"
   ]
  },
  {
   "cell_type": "code",
   "execution_count": 3,
   "id": "2aba8c05",
   "metadata": {},
   "outputs": [],
   "source": [
    "auth = tweepy.OAuthHandler(api_key, api_key_secret)\n",
    "auth.set_access_token(access_token, access_token_secret)\n",
    "\n",
    "# Create the API object\n",
    "api = tweepy.API(auth, wait_on_rate_limit=True)"
   ]
  },
  {
   "cell_type": "markdown",
   "id": "1c72268c",
   "metadata": {},
   "source": [
    "### Extract tweets from Twitter"
   ]
  },
  {
   "cell_type": "code",
   "execution_count": 4,
   "id": "46a43320",
   "metadata": {},
   "outputs": [
    {
     "name": "stdout",
     "output_type": "stream",
     "text": [
      "403 Forbidden\n",
      "453 - You currently have Essential access which includes access to Twitter API v2 endpoints only. If you need access to this endpoint, you’ll need to apply for Elevated access via the Developer Portal. You can learn more here: https://developer.twitter.com/en/docs/twitter-api/getting-started/about-twitter-api#v2-access-leve\n"
     ]
    }
   ],
   "source": [
    "try:\n",
    "    tweets = api.search_tweets(q=\"jakarta\")\n",
    "except Exception as e:\n",
    "    print(e)"
   ]
  },
  {
   "cell_type": "markdown",
   "id": "61d45f1f",
   "metadata": {},
   "source": [
    "**Note:**<br>\n",
    "Sel di atas berjalan apabila peserta memiliki akses **Elevated**. Namun, peserta menggunakan akses **Essential** untuk melakukan ekstraksi data dari Twitter API v2 sehingga sel di atas menghasilkan error.<br><br>\n",
    "Akan tetapi, hal tersebut dapat diatasi dengan menggunakan **Postman API** dan **Pentaho Integration Tools** untuk ekspor data Twitter API dalam bentuk csv, yang mana dapat dilihat pada sel berikut."
   ]
  },
  {
   "cell_type": "markdown",
   "id": "f75c2d15",
   "metadata": {},
   "source": [
    "### Import Data"
   ]
  },
  {
   "cell_type": "markdown",
   "id": "d5156eaf",
   "metadata": {},
   "source": [
    "Tanggal pengerjaan: **7 November 2022** <br>\n",
    "\n",
    "Data yang digunakan merupakan hasil ekstraksi data dari Twitter API mulai dari **7 hari sebelum tanggal pengerjaan** hingga **tanggal pengerjaan**. <br>\n",
    "\n",
    "* Keterbatasan data tersebut terjadi karena pengguna memperoleh akses **\"Essential\"** daripada **\"Elevated\"** dan **\"Academic Research\"**"
   ]
  },
  {
   "cell_type": "code",
   "execution_count": 5,
   "id": "2226e085",
   "metadata": {},
   "outputs": [
    {
     "data": {
      "text/plain": [
       "['goto_count_202211091623.csv',\n",
       " 'shopee_count_202211091616.csv',\n",
       " 'tweets_twitter_202211071059.csv',\n",
       " 'twitter.txt']"
      ]
     },
     "execution_count": 5,
     "metadata": {},
     "output_type": "execute_result"
    }
   ],
   "source": [
    "# Isi dari folder Data/Twitter\n",
    "\n",
    "src = './Data/Twitter'\n",
    "os.listdir(src)"
   ]
  },
  {
   "cell_type": "code",
   "execution_count": 6,
   "id": "3eaff265",
   "metadata": {},
   "outputs": [
    {
     "data": {
      "text/html": [
       "<div>\n",
       "<style scoped>\n",
       "    .dataframe tbody tr th:only-of-type {\n",
       "        vertical-align: middle;\n",
       "    }\n",
       "\n",
       "    .dataframe tbody tr th {\n",
       "        vertical-align: top;\n",
       "    }\n",
       "\n",
       "    .dataframe thead th {\n",
       "        text-align: right;\n",
       "    }\n",
       "</style>\n",
       "<table border=\"1\" class=\"dataframe\">\n",
       "  <thead>\n",
       "    <tr style=\"text-align: right;\">\n",
       "      <th></th>\n",
       "      <th>text</th>\n",
       "    </tr>\n",
       "  </thead>\n",
       "  <tbody>\n",
       "    <tr>\n",
       "      <th>0</th>\n",
       "      <td>PHK masal | Serba-serbi MMC\\nPerusahaan besar ...</td>\n",
       "    </tr>\n",
       "    <tr>\n",
       "      <th>1</th>\n",
       "      <td>@technoblase Gatau deh, Kaz. Semenjak berita y...</td>\n",
       "    </tr>\n",
       "    <tr>\n",
       "      <th>2</th>\n",
       "      <td>@sicepat_ekspres kurir nya semua di PHK kah? M...</td>\n",
       "    </tr>\n",
       "    <tr>\n",
       "      <th>3</th>\n",
       "      <td>Biang Kerok Shopee Tutup &amp;amp; PHK di Mana-Man...</td>\n",
       "    </tr>\n",
       "    <tr>\n",
       "      <th>4</th>\n",
       "      <td>RT @amorteniava: @worksfess Lah itu shopee bar...</td>\n",
       "    </tr>\n",
       "  </tbody>\n",
       "</table>\n",
       "</div>"
      ],
      "text/plain": [
       "                                                text\n",
       "0  PHK masal | Serba-serbi MMC\\nPerusahaan besar ...\n",
       "1  @technoblase Gatau deh, Kaz. Semenjak berita y...\n",
       "2  @sicepat_ekspres kurir nya semua di PHK kah? M...\n",
       "3  Biang Kerok Shopee Tutup &amp; PHK di Mana-Man...\n",
       "4  RT @amorteniava: @worksfess Lah itu shopee bar..."
      ]
     },
     "execution_count": 6,
     "metadata": {},
     "output_type": "execute_result"
    }
   ],
   "source": [
    "# Full path dari data teks twitter dalam ekstensi *csv\n",
    "src_csv = os.path.join(src, 'tweets_twitter_202211071059.csv')\n",
    "\n",
    "data = pd.read_csv(src_csv)\n",
    "data.head()"
   ]
  },
  {
   "cell_type": "code",
   "execution_count": 7,
   "id": "e2e7039c",
   "metadata": {},
   "outputs": [
    {
     "name": "stdout",
     "output_type": "stream",
     "text": [
      "1) PHK masal | Serba-serbi MMC\n",
      "Perusahaan besar yang baru saja melakukan PHK massal adalah Shopee, Tokocrypto, dan Indosat. Selain itu, ada perusahaan otomotif PT Nozomi yang berujung pada demonstrasi para pegawainya. \n",
      "https://t.co/MP48oV7Bmw\n",
      "#Islamkaffah\n",
      "\n",
      "2) @technoblase Gatau deh, Kaz. Semenjak berita yg shopee phk banyak pekerjanya jd makin kesini makin kesana\n",
      "\n",
      "3) @sicepat_ekspres kurir nya semua di PHK kah? Mau request pickup, kurir yg biasa pickup pd bilang mereka semua di PHK, ini gimana ga? Banyak yg blm dipickup, sayang nya di shopee ga bisa ganti expedisi\n",
      "\n",
      "4) Biang Kerok Shopee Tutup &amp; PHK di Mana-Mana Ternyata di India https://t.co/0A4YodNNcz\n",
      "\n",
      "5) RT @amorteniava: @worksfess Lah itu shopee baru PHK karyawan nya , banyak pabrik yang PHK karyawan nya gak di itung ? Selama masa pandemi b…\n",
      "\n",
      "6) RT @wony4everyoung: @worksfess Shopee bakar uangnya daripada ngundang artis Kpop, mending banyakin voucher dan gratis ongkir kayak dulu. Ta…\n",
      "\n",
      "7) @worksfess Lah itu shopee baru PHK karyawan nya , banyak pabrik yang PHK karyawan nya gak di itung ? Selama masa pandemi banyak orang gak kerja kena PHK massal . Lu gak tau banyak Perusahaan Gulung Tikar . Lu bilang Menurun ????\n",
      "\n",
      "8) RT @MMC_IDN2: PHK Massal, Fenomena Tak Terhindarkan dalam Sistem Kapitalisme | Serba-serbi MMC\n",
      "\n",
      "Tiga perusahaan besar Shopee, Tokocrypto da…\n",
      "\n",
      "9) @tanyarlfes Tergantung lingkungan juga sih, cowo gue ga lanjut kuliahnya, putus tengah jalan, semenjak covid jadi driver shopee doang karena di phk, gue lulus kuliah, kerja kantoran. Tapi kalo ada masalah cowo gue bisa lebih bijak daripada kawan\" gue yang di kuliahan\n",
      "\n",
      "10) Dan pada akhirnya pengguna shopee pada beralih ke olshop lain 🤣 abis phk abis abisan, ngurangin gratisan ongkir dan skrng ada biaya layanan admin wkkw\n",
      "\n",
      "11) Pemerintah Cina-India yang tegang, dampaknya PHK di mana-mana. Termasuk di Jakarta. \n",
      "https://t.co/6LF5xvjvQj\n",
      "\n",
      "12) RT @cnbcindonesia: Ternyata Penyebab Shopee PHK &amp; Tutup di Mana-Mana di India https://t.co/dedWuWIK89\n",
      "\n"
     ]
    }
   ],
   "source": [
    "# Masukkan kalimat-kalimat pada csv tersebut ke dalam list\n",
    "sentences = []\n",
    "for text in data['text']:\n",
    "    sentences.append(text)\n",
    "    \n",
    "for idx, sentence in enumerate(sentences):\n",
    "    print(f\"{idx+1}) {sentence}\\n\")"
   ]
  },
  {
   "cell_type": "markdown",
   "id": "165beb73",
   "metadata": {},
   "source": [
    "### Data Cleaning"
   ]
  },
  {
   "cell_type": "code",
   "execution_count": 8,
   "id": "db546ff4",
   "metadata": {},
   "outputs": [],
   "source": [
    "def clean_text(text):\n",
    "    # Menghilangkan @account\n",
    "    text = re.sub(r'@[A-Za-z0-9_]+', '', text)\n",
    "    \n",
    "    # Menghilangkan tag #\n",
    "    text = re.sub('#\\s?\\S+', '', text)\n",
    "    \n",
    "    # Menghilang RT\n",
    "    text = re.sub('RT[\\s]+:?', '', text)\n",
    "    \n",
    "    # Menghilangkan hyperlink\n",
    "    text = re.sub(r\"https?:\\/\\/\\S+\", \"\", text)\n",
    "    \n",
    "    # Menghilangkan new enter\n",
    "    text = text.replace(\"\\n\", \" \")\n",
    "    \n",
    "    # Menghilangkan kata lainnya\n",
    "    text = text.replace(\"&amp\", \"\")\n",
    "    \n",
    "    return text.strip()"
   ]
  },
  {
   "cell_type": "code",
   "execution_count": 9,
   "id": "4a2d73da",
   "metadata": {
    "scrolled": true
   },
   "outputs": [
    {
     "data": {
      "text/html": [
       "<div>\n",
       "<style scoped>\n",
       "    .dataframe tbody tr th:only-of-type {\n",
       "        vertical-align: middle;\n",
       "    }\n",
       "\n",
       "    .dataframe tbody tr th {\n",
       "        vertical-align: top;\n",
       "    }\n",
       "\n",
       "    .dataframe thead th {\n",
       "        text-align: right;\n",
       "    }\n",
       "</style>\n",
       "<table border=\"1\" class=\"dataframe\">\n",
       "  <thead>\n",
       "    <tr style=\"text-align: right;\">\n",
       "      <th></th>\n",
       "      <th>text</th>\n",
       "    </tr>\n",
       "  </thead>\n",
       "  <tbody>\n",
       "    <tr>\n",
       "      <th>0</th>\n",
       "      <td>PHK masal | Serba-serbi MMC Perusahaan besar y...</td>\n",
       "    </tr>\n",
       "    <tr>\n",
       "      <th>1</th>\n",
       "      <td>Gatau deh, Kaz. Semenjak berita yg shopee phk ...</td>\n",
       "    </tr>\n",
       "    <tr>\n",
       "      <th>2</th>\n",
       "      <td>kurir nya semua di PHK kah? Mau request pickup...</td>\n",
       "    </tr>\n",
       "    <tr>\n",
       "      <th>3</th>\n",
       "      <td>Biang Kerok Shopee Tutup ; PHK di Mana-Mana Te...</td>\n",
       "    </tr>\n",
       "    <tr>\n",
       "      <th>4</th>\n",
       "      <td>Lah itu shopee baru PHK karyawan nya , banyak ...</td>\n",
       "    </tr>\n",
       "  </tbody>\n",
       "</table>\n",
       "</div>"
      ],
      "text/plain": [
       "                                                text\n",
       "0  PHK masal | Serba-serbi MMC Perusahaan besar y...\n",
       "1  Gatau deh, Kaz. Semenjak berita yg shopee phk ...\n",
       "2  kurir nya semua di PHK kah? Mau request pickup...\n",
       "3  Biang Kerok Shopee Tutup ; PHK di Mana-Mana Te...\n",
       "4  Lah itu shopee baru PHK karyawan nya , banyak ..."
      ]
     },
     "execution_count": 9,
     "metadata": {},
     "output_type": "execute_result"
    }
   ],
   "source": [
    "clean_data = data.copy()\n",
    "clean_data['text'] = clean_data['text'].apply(clean_text)\n",
    "clean_data.head()"
   ]
  },
  {
   "cell_type": "code",
   "execution_count": 10,
   "id": "d081beec",
   "metadata": {
    "scrolled": false
   },
   "outputs": [
    {
     "name": "stdout",
     "output_type": "stream",
     "text": [
      "1) PHK masal | Serba-serbi MMC Perusahaan besar yang baru saja melakukan PHK massal adalah Shopee, Tokocrypto, dan Indosat. Selain itu, ada perusahaan otomotif PT Nozomi yang berujung pada demonstrasi para pegawainya.\n",
      "\n",
      "2) Gatau deh, Kaz. Semenjak berita yg shopee phk banyak pekerjanya jd makin kesini makin kesana\n",
      "\n",
      "3) kurir nya semua di PHK kah? Mau request pickup, kurir yg biasa pickup pd bilang mereka semua di PHK, ini gimana ga? Banyak yg blm dipickup, sayang nya di shopee ga bisa ganti expedisi\n",
      "\n",
      "4) Biang Kerok Shopee Tutup ; PHK di Mana-Mana Ternyata di India\n",
      "\n",
      "5) Lah itu shopee baru PHK karyawan nya , banyak pabrik yang PHK karyawan nya gak di itung ? Selama masa pandemi b…\n",
      "\n",
      "6) Shopee bakar uangnya daripada ngundang artis Kpop, mending banyakin voucher dan gratis ongkir kayak dulu. Ta…\n",
      "\n",
      "7) Lah itu shopee baru PHK karyawan nya , banyak pabrik yang PHK karyawan nya gak di itung ? Selama masa pandemi banyak orang gak kerja kena PHK massal . Lu gak tau banyak Perusahaan Gulung Tikar . Lu bilang Menurun ????\n",
      "\n",
      "8) PHK Massal, Fenomena Tak Terhindarkan dalam Sistem Kapitalisme | Serba-serbi MMC  Tiga perusahaan besar Shopee, Tokocrypto da…\n",
      "\n",
      "9) Tergantung lingkungan juga sih, cowo gue ga lanjut kuliahnya, putus tengah jalan, semenjak covid jadi driver shopee doang karena di phk, gue lulus kuliah, kerja kantoran. Tapi kalo ada masalah cowo gue bisa lebih bijak daripada kawan\" gue yang di kuliahan\n",
      "\n",
      "10) Dan pada akhirnya pengguna shopee pada beralih ke olshop lain 🤣 abis phk abis abisan, ngurangin gratisan ongkir dan skrng ada biaya layanan admin wkkw\n",
      "\n",
      "11) Pemerintah Cina-India yang tegang, dampaknya PHK di mana-mana. Termasuk di Jakarta.\n",
      "\n",
      "12) Ternyata Penyebab Shopee PHK ; Tutup di Mana-Mana di India\n",
      "\n"
     ]
    }
   ],
   "source": [
    "# Masukkan kalimat-kalimat pada csv tersebut ke dalam list\n",
    "sentences = []\n",
    "for text in clean_data['text']:\n",
    "    sentences.append(text)\n",
    "    \n",
    "for idx, sentence in enumerate(sentences):\n",
    "    print(f\"{idx+1}) {sentence}\\n\")"
   ]
  },
  {
   "cell_type": "code",
   "execution_count": 11,
   "id": "391f1a7b",
   "metadata": {},
   "outputs": [],
   "source": [
    "# Label yang diberikan oleh peserta (diasumsikan label yang sebenarnya)\n",
    "\n",
    "true_labels = [\"Netral\", \n",
    "               \"Negatif\", \n",
    "               \"Negatif\", \n",
    "               \"Negatif\", \n",
    "               \"Negatif\", \n",
    "               \"Negatif\", \n",
    "               \"Negatif\", \n",
    "               \"Negatif\", \n",
    "               \"Netral\", \n",
    "               \"Negatif\", \n",
    "               \"Negatif\", \n",
    "               \"Netral\"]"
   ]
  },
  {
   "cell_type": "code",
   "execution_count": 12,
   "id": "9b378315",
   "metadata": {},
   "outputs": [
    {
     "data": {
      "text/html": [
       "<div>\n",
       "<style scoped>\n",
       "    .dataframe tbody tr th:only-of-type {\n",
       "        vertical-align: middle;\n",
       "    }\n",
       "\n",
       "    .dataframe tbody tr th {\n",
       "        vertical-align: top;\n",
       "    }\n",
       "\n",
       "    .dataframe thead th {\n",
       "        text-align: right;\n",
       "    }\n",
       "</style>\n",
       "<table border=\"1\" class=\"dataframe\">\n",
       "  <thead>\n",
       "    <tr style=\"text-align: right;\">\n",
       "      <th></th>\n",
       "      <th>text</th>\n",
       "      <th>Polarity</th>\n",
       "    </tr>\n",
       "  </thead>\n",
       "  <tbody>\n",
       "    <tr>\n",
       "      <th>0</th>\n",
       "      <td>PHK masal | Serba-serbi MMC Perusahaan besar y...</td>\n",
       "      <td>0.000000</td>\n",
       "    </tr>\n",
       "    <tr>\n",
       "      <th>1</th>\n",
       "      <td>Gatau deh, Kaz. Semenjak berita yg shopee phk ...</td>\n",
       "      <td>0.500000</td>\n",
       "    </tr>\n",
       "    <tr>\n",
       "      <th>2</th>\n",
       "      <td>kurir nya semua di PHK kah? Mau request pickup...</td>\n",
       "      <td>0.000000</td>\n",
       "    </tr>\n",
       "    <tr>\n",
       "      <th>3</th>\n",
       "      <td>Biang Kerok Shopee Tutup ; PHK di Mana-Mana Te...</td>\n",
       "      <td>-0.100000</td>\n",
       "    </tr>\n",
       "    <tr>\n",
       "      <th>4</th>\n",
       "      <td>Lah itu shopee baru PHK karyawan nya , banyak ...</td>\n",
       "      <td>0.318182</td>\n",
       "    </tr>\n",
       "    <tr>\n",
       "      <th>5</th>\n",
       "      <td>Shopee bakar uangnya daripada ngundang artis K...</td>\n",
       "      <td>0.450000</td>\n",
       "    </tr>\n",
       "    <tr>\n",
       "      <th>6</th>\n",
       "      <td>Lah itu shopee baru PHK karyawan nya , banyak ...</td>\n",
       "      <td>0.247273</td>\n",
       "    </tr>\n",
       "    <tr>\n",
       "      <th>7</th>\n",
       "      <td>PHK Massal, Fenomena Tak Terhindarkan dalam Si...</td>\n",
       "      <td>0.107143</td>\n",
       "    </tr>\n",
       "    <tr>\n",
       "      <th>8</th>\n",
       "      <td>Tergantung lingkungan juga sih, cowo gue ga la...</td>\n",
       "      <td>0.000000</td>\n",
       "    </tr>\n",
       "    <tr>\n",
       "      <th>9</th>\n",
       "      <td>Dan pada akhirnya pengguna shopee pada beralih...</td>\n",
       "      <td>0.137500</td>\n",
       "    </tr>\n",
       "    <tr>\n",
       "      <th>10</th>\n",
       "      <td>Pemerintah Cina-India yang tegang, dampaknya P...</td>\n",
       "      <td>-0.333333</td>\n",
       "    </tr>\n",
       "    <tr>\n",
       "      <th>11</th>\n",
       "      <td>Ternyata Penyebab Shopee PHK ; Tutup di Mana-M...</td>\n",
       "      <td>0.000000</td>\n",
       "    </tr>\n",
       "  </tbody>\n",
       "</table>\n",
       "</div>"
      ],
      "text/plain": [
       "                                                 text  Polarity\n",
       "0   PHK masal | Serba-serbi MMC Perusahaan besar y...  0.000000\n",
       "1   Gatau deh, Kaz. Semenjak berita yg shopee phk ...  0.500000\n",
       "2   kurir nya semua di PHK kah? Mau request pickup...  0.000000\n",
       "3   Biang Kerok Shopee Tutup ; PHK di Mana-Mana Te... -0.100000\n",
       "4   Lah itu shopee baru PHK karyawan nya , banyak ...  0.318182\n",
       "5   Shopee bakar uangnya daripada ngundang artis K...  0.450000\n",
       "6   Lah itu shopee baru PHK karyawan nya , banyak ...  0.247273\n",
       "7   PHK Massal, Fenomena Tak Terhindarkan dalam Si...  0.107143\n",
       "8   Tergantung lingkungan juga sih, cowo gue ga la...  0.000000\n",
       "9   Dan pada akhirnya pengguna shopee pada beralih...  0.137500\n",
       "10  Pemerintah Cina-India yang tegang, dampaknya P... -0.333333\n",
       "11  Ternyata Penyebab Shopee PHK ; Tutup di Mana-M...  0.000000"
      ]
     },
     "execution_count": 12,
     "metadata": {},
     "output_type": "execute_result"
    }
   ],
   "source": [
    "def translate_en_AND_get_polarity(text):\n",
    "    # Demojize the emoji\n",
    "    converted_text = emoji.demojize(text)\n",
    "    \n",
    "    # Translate to english\n",
    "    analysis = TextBlob(converted_text)\n",
    "    analysis = analysis.translate(from_lang=\"id\", to='en')\n",
    "    return analysis.sentiment.polarity\n",
    "\n",
    "clean_data['Polarity'] = clean_data['text'].apply(translate_en_AND_get_polarity)\n",
    "clean_data"
   ]
  },
  {
   "cell_type": "markdown",
   "id": "0179391f",
   "metadata": {},
   "source": [
    "### Labelling"
   ]
  },
  {
   "cell_type": "code",
   "execution_count": 13,
   "id": "3d71769b",
   "metadata": {},
   "outputs": [],
   "source": [
    "def labelling(polarity):\n",
    "    if polarity > 0:\n",
    "        return \"Positif\"\n",
    "    elif polarity == 0:\n",
    "        return \"Netral\"\n",
    "    else:\n",
    "        return \"Negatif\"\n",
    "    \n",
    "clean_data[\"Label\"] = clean_data[\"Polarity\"].apply(labelling)"
   ]
  },
  {
   "cell_type": "code",
   "execution_count": 14,
   "id": "e3b04f3a",
   "metadata": {},
   "outputs": [],
   "source": [
    "clean_data[\"True Label\"] = true_labels"
   ]
  },
  {
   "cell_type": "code",
   "execution_count": 15,
   "id": "56cdaee7",
   "metadata": {},
   "outputs": [
    {
     "data": {
      "text/html": [
       "<div>\n",
       "<style scoped>\n",
       "    .dataframe tbody tr th:only-of-type {\n",
       "        vertical-align: middle;\n",
       "    }\n",
       "\n",
       "    .dataframe tbody tr th {\n",
       "        vertical-align: top;\n",
       "    }\n",
       "\n",
       "    .dataframe thead th {\n",
       "        text-align: right;\n",
       "    }\n",
       "</style>\n",
       "<table border=\"1\" class=\"dataframe\">\n",
       "  <thead>\n",
       "    <tr style=\"text-align: right;\">\n",
       "      <th></th>\n",
       "      <th>text</th>\n",
       "      <th>Polarity</th>\n",
       "      <th>Label</th>\n",
       "      <th>True Label</th>\n",
       "    </tr>\n",
       "  </thead>\n",
       "  <tbody>\n",
       "    <tr>\n",
       "      <th>0</th>\n",
       "      <td>PHK masal | Serba-serbi MMC Perusahaan besar y...</td>\n",
       "      <td>0.000000</td>\n",
       "      <td>Netral</td>\n",
       "      <td>Netral</td>\n",
       "    </tr>\n",
       "    <tr>\n",
       "      <th>1</th>\n",
       "      <td>Gatau deh, Kaz. Semenjak berita yg shopee phk ...</td>\n",
       "      <td>0.500000</td>\n",
       "      <td>Positif</td>\n",
       "      <td>Negatif</td>\n",
       "    </tr>\n",
       "    <tr>\n",
       "      <th>2</th>\n",
       "      <td>kurir nya semua di PHK kah? Mau request pickup...</td>\n",
       "      <td>0.000000</td>\n",
       "      <td>Netral</td>\n",
       "      <td>Negatif</td>\n",
       "    </tr>\n",
       "    <tr>\n",
       "      <th>3</th>\n",
       "      <td>Biang Kerok Shopee Tutup ; PHK di Mana-Mana Te...</td>\n",
       "      <td>-0.100000</td>\n",
       "      <td>Negatif</td>\n",
       "      <td>Negatif</td>\n",
       "    </tr>\n",
       "    <tr>\n",
       "      <th>4</th>\n",
       "      <td>Lah itu shopee baru PHK karyawan nya , banyak ...</td>\n",
       "      <td>0.318182</td>\n",
       "      <td>Positif</td>\n",
       "      <td>Negatif</td>\n",
       "    </tr>\n",
       "    <tr>\n",
       "      <th>5</th>\n",
       "      <td>Shopee bakar uangnya daripada ngundang artis K...</td>\n",
       "      <td>0.450000</td>\n",
       "      <td>Positif</td>\n",
       "      <td>Negatif</td>\n",
       "    </tr>\n",
       "    <tr>\n",
       "      <th>6</th>\n",
       "      <td>Lah itu shopee baru PHK karyawan nya , banyak ...</td>\n",
       "      <td>0.247273</td>\n",
       "      <td>Positif</td>\n",
       "      <td>Negatif</td>\n",
       "    </tr>\n",
       "    <tr>\n",
       "      <th>7</th>\n",
       "      <td>PHK Massal, Fenomena Tak Terhindarkan dalam Si...</td>\n",
       "      <td>0.107143</td>\n",
       "      <td>Positif</td>\n",
       "      <td>Negatif</td>\n",
       "    </tr>\n",
       "    <tr>\n",
       "      <th>8</th>\n",
       "      <td>Tergantung lingkungan juga sih, cowo gue ga la...</td>\n",
       "      <td>0.000000</td>\n",
       "      <td>Netral</td>\n",
       "      <td>Netral</td>\n",
       "    </tr>\n",
       "    <tr>\n",
       "      <th>9</th>\n",
       "      <td>Dan pada akhirnya pengguna shopee pada beralih...</td>\n",
       "      <td>0.137500</td>\n",
       "      <td>Positif</td>\n",
       "      <td>Negatif</td>\n",
       "    </tr>\n",
       "    <tr>\n",
       "      <th>10</th>\n",
       "      <td>Pemerintah Cina-India yang tegang, dampaknya P...</td>\n",
       "      <td>-0.333333</td>\n",
       "      <td>Negatif</td>\n",
       "      <td>Negatif</td>\n",
       "    </tr>\n",
       "    <tr>\n",
       "      <th>11</th>\n",
       "      <td>Ternyata Penyebab Shopee PHK ; Tutup di Mana-M...</td>\n",
       "      <td>0.000000</td>\n",
       "      <td>Netral</td>\n",
       "      <td>Netral</td>\n",
       "    </tr>\n",
       "  </tbody>\n",
       "</table>\n",
       "</div>"
      ],
      "text/plain": [
       "                                                 text  Polarity    Label  \\\n",
       "0   PHK masal | Serba-serbi MMC Perusahaan besar y...  0.000000   Netral   \n",
       "1   Gatau deh, Kaz. Semenjak berita yg shopee phk ...  0.500000  Positif   \n",
       "2   kurir nya semua di PHK kah? Mau request pickup...  0.000000   Netral   \n",
       "3   Biang Kerok Shopee Tutup ; PHK di Mana-Mana Te... -0.100000  Negatif   \n",
       "4   Lah itu shopee baru PHK karyawan nya , banyak ...  0.318182  Positif   \n",
       "5   Shopee bakar uangnya daripada ngundang artis K...  0.450000  Positif   \n",
       "6   Lah itu shopee baru PHK karyawan nya , banyak ...  0.247273  Positif   \n",
       "7   PHK Massal, Fenomena Tak Terhindarkan dalam Si...  0.107143  Positif   \n",
       "8   Tergantung lingkungan juga sih, cowo gue ga la...  0.000000   Netral   \n",
       "9   Dan pada akhirnya pengguna shopee pada beralih...  0.137500  Positif   \n",
       "10  Pemerintah Cina-India yang tegang, dampaknya P... -0.333333  Negatif   \n",
       "11  Ternyata Penyebab Shopee PHK ; Tutup di Mana-M...  0.000000   Netral   \n",
       "\n",
       "   True Label  \n",
       "0      Netral  \n",
       "1     Negatif  \n",
       "2     Negatif  \n",
       "3     Negatif  \n",
       "4     Negatif  \n",
       "5     Negatif  \n",
       "6     Negatif  \n",
       "7     Negatif  \n",
       "8      Netral  \n",
       "9     Negatif  \n",
       "10    Negatif  \n",
       "11     Netral  "
      ]
     },
     "execution_count": 15,
     "metadata": {},
     "output_type": "execute_result"
    }
   ],
   "source": [
    "clean_data"
   ]
  },
  {
   "cell_type": "markdown",
   "id": "5cdbfeb9",
   "metadata": {},
   "source": [
    "### Hasil Sentiment Analysis"
   ]
  },
  {
   "cell_type": "code",
   "execution_count": 16,
   "id": "4fb893bd",
   "metadata": {},
   "outputs": [
    {
     "name": "stdout",
     "output_type": "stream",
     "text": [
      "Hasil Sentiment Analysis:\n",
      "\n",
      "Positif: 6 (50.0%)\n",
      "Netral: 4 (33.0%)\n",
      "Negatif: 2 (17.0%)\n"
     ]
    }
   ],
   "source": [
    "label_counts = clean_data['Label'].value_counts()\n",
    "\n",
    "print(\"Hasil Sentiment Analysis:\\n\")\n",
    "for label, count in zip(label_counts.index, label_counts):\n",
    "    print(f\"{label}: {count} ({round(count/label_counts.sum(),2)*100}%)\")"
   ]
  },
  {
   "cell_type": "code",
   "execution_count": 17,
   "id": "0440f6a1",
   "metadata": {},
   "outputs": [
    {
     "name": "stdout",
     "output_type": "stream",
     "text": [
      "Hasil Sebenarnya:\n",
      "\n",
      "Negatif: 9 (75.0%)\n",
      "Netral: 3 (25.0%)\n"
     ]
    }
   ],
   "source": [
    "true_counts = clean_data['True Label'].value_counts()\n",
    "\n",
    "print(\"Hasil Sebenarnya:\\n\")\n",
    "for label, count in zip(true_counts.index, true_counts):\n",
    "    print(f\"{label}: {count} ({round(count/true_counts.sum(),2)*100}%)\")"
   ]
  },
  {
   "cell_type": "markdown",
   "id": "a2689766",
   "metadata": {},
   "source": [
    "**Note:**<br>\n",
    "Hasil labelling di atas **tidak sepenuhnya benar**. Berikut adalah alasannya:<br>\n",
    "1. Beberapa **kata yang disingkat-singkat** sehingga TextBlob tidak mengerti sintaks dan semantik dari kalimat tertentu\n",
    "2. Kalimat tertentu memiliki beberapa emoji dan kata positif (contoh: \"baru\") **dianggap memiliki label positif, meskipun seharusnya memberikan label negatif**\n",
    "3. Hasil **translate** yang justru mungkin **memberikan interpretasi yang salah**"
   ]
  },
  {
   "cell_type": "markdown",
   "id": "472eb751",
   "metadata": {},
   "source": [
    "### Save dataframe to csv"
   ]
  },
  {
   "cell_type": "code",
   "execution_count": 18,
   "id": "5d804786",
   "metadata": {},
   "outputs": [],
   "source": [
    "clean_data.to_csv(\"twitter_sentiment_analysis.csv\")"
   ]
  }
 ],
 "metadata": {
  "kernelspec": {
   "display_name": "Python 3 (ipykernel)",
   "language": "python",
   "name": "python3"
  },
  "language_info": {
   "codemirror_mode": {
    "name": "ipython",
    "version": 3
   },
   "file_extension": ".py",
   "mimetype": "text/x-python",
   "name": "python",
   "nbconvert_exporter": "python",
   "pygments_lexer": "ipython3",
   "version": "3.9.12"
  }
 },
 "nbformat": 4,
 "nbformat_minor": 5
}
